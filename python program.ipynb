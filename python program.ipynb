{
 "cells": [
  {
   "cell_type": "code",
   "execution_count": 3,
   "metadata": {},
   "outputs": [],
   "source": [
    "import tensorflow as tf\n",
    "import matplotlib.pyplot as plt\n",
    "import numpy as np # for math calc\n",
    "\n",
    "\n"
   ]
  },
  {
   "cell_type": "code",
   "execution_count": 29,
   "metadata": {},
   "outputs": [],
   "source": [
    "# define the image size and batch size\n",
    "img_size = (40, 40)\n",
    "batch_size = 32\n",
    "\n",
    "# Path to your datasets folder\n",
    "data_dir = \"C:/Users/sandr/OneDrive/Desktop/main pro\"\n"
   ]
  },
  {
   "cell_type": "code",
   "execution_count": 35,
   "metadata": {},
   "outputs": [
    {
     "name": "stdout",
     "output_type": "stream",
     "text": [
      "Found 948 files belonging to 2 classes.\n",
      "Using 759 files for training.\n",
      "Found 948 files belonging to 2 classes.\n",
      "Using 189 files for validation.\n"
     ]
    }
   ],
   "source": [
    "train_ds = tf.keras.preprocessing.image_dataset_from_directory( # training set  \n",
    "    data_dir,\n",
    "    labels=\"inferred\",  # Use \"inferred\" to infer labels from subdirectory names\n",
    "    color_mode='grayscale',\n",
    "    validation_split=0.2,\n",
    "    subset='training',\n",
    "    seed=123,\n",
    "    image_size=img_size,\n",
    "    batch_size=batch_size\n",
    ")\n",
    "val_ds = tf.keras.preprocessing.image_dataset_from_directory( # testing set\n",
    "    data_dir,\n",
    "    labels= \"inferred\",\n",
    "    color_mode='grayscale',\n",
    "    validation_split=0.2,\n",
    "    subset='validation',\n",
    "    seed=123,\n",
    "    image_size=img_size,\n",
    "    batch_size=batch_size)\n",
    "    "
   ]
  },
  {
   "cell_type": "code",
   "execution_count": 38,
   "metadata": {},
   "outputs": [],
   "source": [
    "img_height = 64\n",
    "img_width = 64\n"
   ]
  },
  {
   "cell_type": "code",
   "execution_count": 40,
   "metadata": {},
   "outputs": [],
   "source": [
    "# Resize images to match model's expected input size\n",
    "train_ds = train_ds.map(lambda x, y: (tf.image.resize(x, (64, 64)), y))\n",
    "val_ds = val_ds.map(lambda x, y: (tf.image.resize(x, (64, 64)), y))\n"
   ]
  },
  {
   "cell_type": "code",
   "execution_count": 41,
   "metadata": {},
   "outputs": [
    {
     "name": "stdout",
     "output_type": "stream",
     "text": [
      "WARNING:tensorflow:Using a while_loop for converting RngReadAndSkip cause there is no registered converter for this op.\n",
      "WARNING:tensorflow:Using a while_loop for converting Bitcast cause there is no registered converter for this op.\n",
      "WARNING:tensorflow:Using a while_loop for converting Bitcast cause there is no registered converter for this op.\n",
      "WARNING:tensorflow:Using a while_loop for converting StatelessRandomUniformV2 cause there is no registered converter for this op.\n",
      "WARNING:tensorflow:Using a while_loop for converting ImageProjectiveTransformV3 cause there is no registered converter for this op.\n",
      "WARNING:tensorflow:Using a while_loop for converting RngReadAndSkip cause there is no registered converter for this op.\n",
      "WARNING:tensorflow:Using a while_loop for converting Bitcast cause there is no registered converter for this op.\n",
      "WARNING:tensorflow:Using a while_loop for converting Bitcast cause there is no registered converter for this op.\n",
      "WARNING:tensorflow:Using a while_loop for converting StatelessRandomUniformV2 cause there is no registered converter for this op.\n",
      "WARNING:tensorflow:Using a while_loop for converting ImageProjectiveTransformV3 cause there is no registered converter for this op.\n",
      "WARNING:tensorflow:Using a while_loop for converting RngReadAndSkip cause there is no registered converter for this op.\n",
      "WARNING:tensorflow:Using a while_loop for converting Bitcast cause there is no registered converter for this op.\n",
      "WARNING:tensorflow:Using a while_loop for converting Bitcast cause there is no registered converter for this op.\n",
      "WARNING:tensorflow:Using a while_loop for converting StatelessRandomUniformV2 cause there is no registered converter for this op.\n",
      "WARNING:tensorflow:Using a while_loop for converting ImageProjectiveTransformV3 cause there is no registered converter for this op.\n",
      "Epoch 1/10\n",
      "24/24 [==============================] - 6s 201ms/step - loss: 0.6913 - accuracy: 0.5705 - val_loss: 0.6755 - val_accuracy: 0.6508\n",
      "Epoch 2/10\n",
      "24/24 [==============================] - 4s 165ms/step - loss: 0.6852 - accuracy: 0.5705 - val_loss: 0.6663 - val_accuracy: 0.6508\n",
      "Epoch 3/10\n",
      "24/24 [==============================] - 4s 166ms/step - loss: 0.6870 - accuracy: 0.5705 - val_loss: 0.6672 - val_accuracy: 0.6508\n",
      "Epoch 4/10\n",
      "24/24 [==============================] - 4s 173ms/step - loss: 0.6860 - accuracy: 0.5705 - val_loss: 0.6674 - val_accuracy: 0.6508\n",
      "Epoch 5/10\n",
      "24/24 [==============================] - 5s 181ms/step - loss: 0.6861 - accuracy: 0.5705 - val_loss: 0.6624 - val_accuracy: 0.6508\n",
      "Epoch 6/10\n",
      "24/24 [==============================] - 5s 181ms/step - loss: 0.6837 - accuracy: 0.5705 - val_loss: 0.6645 - val_accuracy: 0.6508\n",
      "Epoch 7/10\n",
      "24/24 [==============================] - 4s 177ms/step - loss: 0.6844 - accuracy: 0.5705 - val_loss: 0.6593 - val_accuracy: 0.6508\n",
      "Epoch 8/10\n",
      "24/24 [==============================] - 4s 175ms/step - loss: 0.6835 - accuracy: 0.5705 - val_loss: 0.6658 - val_accuracy: 0.6508\n",
      "Epoch 9/10\n",
      "24/24 [==============================] - 7s 309ms/step - loss: 0.6841 - accuracy: 0.5705 - val_loss: 0.6565 - val_accuracy: 0.6508\n",
      "Epoch 10/10\n",
      "24/24 [==============================] - 8s 322ms/step - loss: 0.6851 - accuracy: 0.5705 - val_loss: 0.6624 - val_accuracy: 0.6508\n",
      "6/6 [==============================] - 4s 41ms/step - loss: 0.6624 - accuracy: 0.6508\n",
      "Test Accuracy: 0.6507936716079712\n"
     ]
    }
   ],
   "source": [
    "import tensorflow as tf\n",
    "from tensorflow.keras import layers\n",
    "\n",
    "# Define data preprocessing and augmentation\n",
    "data_augmentation = tf.keras.Sequential([\n",
    "    layers.experimental.preprocessing.RandomFlip(\"horizontal\"),\n",
    "    layers.experimental.preprocessing.RandomRotation(0.1),\n",
    "    layers.experimental.preprocessing.Rescaling(1./255),\n",
    "])\n",
    "\n",
    "# Apply data preprocessing to the datasets\n",
    "train_ds = train_ds.map(lambda x, y: (data_augmentation(x), y))\n",
    "val_ds = val_ds.map(lambda x, y: (data_augmentation(x), y))\n",
    "\n",
    "# Define the CNN model\n",
    "model = tf.keras.Sequential([\n",
    "    layers.Conv2D(32, (3, 3), activation='relu', input_shape=(img_height, img_width, 1)),\n",
    "    layers.MaxPooling2D((2, 2)),\n",
    "    layers.Conv2D(64, (3, 3), activation='relu'),\n",
    "    layers.MaxPooling2D((2, 2)),\n",
    "    layers.Conv2D(64, (3, 3), activation='relu'),\n",
    "    layers.Flatten(),\n",
    "    layers.Dense(64, activation='relu'),\n",
    "    layers.Dense(2, activation='softmax')  # Output layer with 2 classes: 'fall' and 'not fall'\n",
    "])\n",
    "\n",
    "# Compile the model\n",
    "model.compile(optimizer='adam',\n",
    "              loss='sparse_categorical_crossentropy',\n",
    "              metrics=['accuracy'])\n",
    "\n",
    "# Train the model\n",
    "history = model.fit(train_ds, validation_data=val_ds, epochs=10)\n",
    "\n",
    "# Evaluate the model\n",
    "test_loss, test_accuracy = model.evaluate(val_ds)\n",
    "print(\"Test Accuracy:\", test_accuracy)\n"
   ]
  },
  {
   "cell_type": "code",
   "execution_count": null,
   "metadata": {},
   "outputs": [],
   "source": []
  },
  {
   "cell_type": "code",
   "execution_count": 20,
   "metadata": {},
   "outputs": [
    {
     "ename": "NameError",
     "evalue": "name 'train_ds' is not defined",
     "output_type": "error",
     "traceback": [
      "\u001b[1;31m---------------------------------------------------------------------------\u001b[0m",
      "\u001b[1;31mNameError\u001b[0m                                 Traceback (most recent call last)",
      "Input \u001b[1;32mIn [20]\u001b[0m, in \u001b[0;36m<cell line: 1>\u001b[1;34m()\u001b[0m\n\u001b[1;32m----> 1\u001b[0m class_names \u001b[38;5;241m=\u001b[39m \u001b[43mtrain_ds\u001b[49m\u001b[38;5;241m.\u001b[39mclass_names\n\u001b[0;32m      2\u001b[0m num_classes \u001b[38;5;241m=\u001b[39m \u001b[38;5;28mlen\u001b[39m(class_names)\n\u001b[0;32m      3\u001b[0m \u001b[38;5;28mprint\u001b[39m(\u001b[38;5;124m'\u001b[39m\u001b[38;5;124mClass names:\u001b[39m\u001b[38;5;124m'\u001b[39m, class_names)\n",
      "\u001b[1;31mNameError\u001b[0m: name 'train_ds' is not defined"
     ]
    }
   ],
   "source": []
  }
 ],
 "metadata": {
  "kernelspec": {
   "display_name": "base",
   "language": "python",
   "name": "python3"
  },
  "language_info": {
   "codemirror_mode": {
    "name": "ipython",
    "version": 3
   },
   "file_extension": ".py",
   "mimetype": "text/x-python",
   "name": "python",
   "nbconvert_exporter": "python",
   "pygments_lexer": "ipython3",
   "version": "2022.5.0"
  }
 },
 "nbformat": 4,
 "nbformat_minor": 2
}
